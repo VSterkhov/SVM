{
 "cells": [
  {
   "cell_type": "markdown",
   "id": "aee42544-2cbb-4024-aac0-e57883d4f9ec",
   "metadata": {},
   "source": [
    "Зависимость возраста на низкий доход"
   ]
  },
  {
   "cell_type": "code",
   "execution_count": 1,
   "id": "c9799af7-b928-4b27-9644-6a5939862768",
   "metadata": {},
   "outputs": [
    {
     "data": {
      "image/png": "[encoded data removed]",
      "text/plain": [
       "<Figure size 432x288 with 1 Axes>"
      ]
     },
     "metadata": {
      "needs_background": "light"
     },
     "output_type": "display_data"
    }
   ],
   "source": [
    "#!/usr/bin/env python3\n",
    "# -*- coding: utf-8 -*-\n",
    "\"\"\"\n",
    "Created on Fri Jul  8 15:51:26 2022\n",
    "\n",
    "@author: vladislav\n",
    "\"\"\"\n",
    "import pandas\n",
    "import matplotlib.pyplot as plt\n",
    "\n",
    "from sklearn.preprocessing import LabelEncoder\n",
    "\n",
    "data = pandas.read_csv('./adult.csv', delimiter=(','))\n",
    "\n",
    "labelEncoder = LabelEncoder()\n",
    "labelEncoder.fit(data['income'])\n",
    "transformedIncome = pandas.Series(data = labelEncoder.transform(data['income']))\n",
    "data['income'] = transformedIncome\n",
    "\n",
    "poors = data[data.income == 0]\n",
    "poors = poors.reset_index()\n",
    "\n",
    "hashmap = dict()\n",
    "for index, row in poors.iterrows():\n",
    "    if hashmap.get(row['age']) == None:\n",
    "        hashmap[row['age']]=1\n",
    "    else:\n",
    "        hashmap[row['age']]=hashmap.get(row['age'])+1\n",
    "\n",
    "plt.bar(hashmap.keys(), hashmap.values())\n",
    "plt.title(\"Ages to Income count (poor)\")\n",
    "plt.xlabel(\"Age\")\n",
    "plt.ylabel(\"Count\")\n",
    "plt.show()"
   ]
  },
  {
   "cell_type": "markdown",
   "id": "a19f20ad-7dfb-4857-9045-c1b200595def",
   "metadata": {},
   "source": [
    "Зависимость возраста на высокий доход"
   ]
  },
  {
   "cell_type": "code",
   "execution_count": 2,
   "id": "1bd3c074-26db-4c4e-ac32-555f8858cfe4",
   "metadata": {},
   "outputs": [
    {
     "data": {
      "image/png": "[encoded data removed]",
      "text/plain": [
       "<Figure size 432x288 with 1 Axes>"
      ]
     },
     "metadata": {
      "needs_background": "light"
     },
     "output_type": "display_data"
    }
   ],
   "source": [
    "#!/usr/bin/env python3\n",
    "# -*- coding: utf-8 -*-\n",
    "\"\"\"\n",
    "Created on Fri Jul  8 15:59:26 2022\n",
    "\n",
    "@author: vladislav\n",
    "\"\"\"\n",
    "import pandas\n",
    "import matplotlib.pyplot as plt\n",
    "\n",
    "from sklearn.preprocessing import LabelEncoder\n",
    "\n",
    "data = pandas.read_csv('./adult.csv', delimiter=(','))\n",
    "\n",
    "labelEncoder = LabelEncoder()\n",
    "labelEncoder.fit(data['income'])\n",
    "transformedIncome = pandas.Series(data = labelEncoder.transform(data['income']))\n",
    "data['income'] = transformedIncome\n",
    "\n",
    "riches = data[data.income > 0]\n",
    "riches = riches.reset_index()\n",
    "\n",
    "hashmap = dict()\n",
    "for index, row in riches.iterrows():\n",
    "    if hashmap.get(row['age']) == None:\n",
    "        hashmap[row['age']]=1\n",
    "    else:\n",
    "        hashmap[row['age']]=hashmap.get(row['age'])+1\n",
    "\n",
    "plt.bar(hashmap.keys(), hashmap.values())\n",
    "plt.title(\"Ages to Income count (rich)\")\n",
    "plt.xlabel(\"Age\")\n",
    "plt.ylabel(\"Count\")\n",
    "plt.show()"
   ]
  },
  {
   "cell_type": "markdown",
   "id": "c65033b6-9de6-49c0-892d-6f9ab9a2eb54",
   "metadata": {},
   "source": [
    "Обучение модели логистической регрессии и SVM"
   ]
  },
  {
   "cell_type": "code",
   "execution_count": 3,
   "id": "828763e5-6053-4af2-b8e2-bc5fdc212c91",
   "metadata": {},
   "outputs": [
    {
     "name": "stdout",
     "output_type": "stream",
     "text": [
      "LogisticRegression Score:  0.8209642747466476\n",
      "SVM Score:  0.8365236974101751\n"
     ]
    }
   ],
   "source": [
    "#!/usr/bin/env python3\n",
    "# -*- coding: utf-8 -*-\n",
    "\"\"\"\n",
    "Created on Wed Jul  6 15:37:27 2022\n",
    "\n",
    "@author: vladislav\n",
    "\"\"\"\n",
    "\n",
    "import numpy\n",
    "import operator\n",
    "import pandas\n",
    "import scipy.stats\n",
    "import seaborn\n",
    "import matplotlib.pyplot as plt\n",
    "\n",
    "from sklearn.model_selection import train_test_split \n",
    "from sklearn.preprocessing import LabelEncoder\n",
    "from sklearn.pipeline import make_pipeline\n",
    "from sklearn.preprocessing import StandardScaler\n",
    "from sklearn.linear_model import LogisticRegression\n",
    "from sklearn.svm import SVC\n",
    "\n",
    "data = pandas.read_csv('./adult.csv', delimiter=(','))\n",
    "\n",
    "labelEncoder = LabelEncoder()\n",
    "labelEncoder.fit(data['income'])\n",
    "transformedIncome = pandas.Series(data = labelEncoder.transform(data['income']))\n",
    "data['income'] = transformedIncome\n",
    "labelEncoder.fit(data['gender'])\n",
    "transformedGender = pandas.Series(data = labelEncoder.transform(data['gender']))\n",
    "data['gender'] = transformedGender\n",
    "\n",
    "targetData = pandas.get_dummies(data.loc[:, ['age', 'hours-per-week', 'educational-num', 'gender', 'race', 'capital-gain', 'capital-loss']])\n",
    "Y = data['income']\n",
    "\n",
    "X_train, X_test, Y_train, Y_test = train_test_split(targetData, Y, test_size=0.2)\n",
    "\n",
    "logRegModel = LogisticRegression(max_iter=1000)\n",
    "logRegModel.fit(X_train, Y_train)\n",
    "print('LogisticRegression Score: ', logRegModel.score(X_test,Y_test))\n",
    "\n",
    "svcModel = SVC(gamma='auto')\n",
    "svcModel.fit(X_train, Y_train)\n",
    "print('SVM Score: ', svcModel.score(X_test,Y_test))\n"
   ]
  },
  {
   "cell_type": "markdown",
   "id": "89a240b6-64f9-495f-b233-1f34861af576",
   "metadata": {},
   "source": [
    "Вывод score показывает, что в классическом варианте SVM может угадывать лучше на ~2%, однако выполняется в разы дольше.\n",
    "\n",
    "LogisticRegression Score:  0.8223973794656567\n",
    "SVM Score:  0.8394922714709796"
   ]
  }
 ],
 "metadata": {
  "kernelspec": {
   "display_name": "Python 3 (ipykernel)",
   "language": "python",
   "name": "python3"
  },
  "language_info": {
   "codemirror_mode": {
    "name": "ipython",
    "version": 3
   },
   "file_extension": ".py",
   "mimetype": "text/x-python",
   "name": "python",
   "nbconvert_exporter": "python",
   "pygments_lexer": "ipython3",
   "version": "3.9.12"
  }
 },
 "nbformat": 4,
 "nbformat_minor": 5
}
